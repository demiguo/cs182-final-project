{
 "cells": [
  {
   "cell_type": "code",
   "execution_count": 3,
   "metadata": {
    "collapsed": false
   },
   "outputs": [
    {
     "name": "stdout",
     "output_type": "stream",
     "text": [
      "['Happy', 'Inspect-', 'dd']\n"
     ]
    }
   ],
   "source": []
  },
  {
   "cell_type": "code",
   "execution_count": 12,
   "metadata": {
    "collapsed": false
   },
   "outputs": [
    {
     "name": "stdout",
     "output_type": "stream",
     "text": [
      "['happyyeshh', 'Happydd']\n"
     ]
    }
   ],
   "source": [
    "def removeInvalidChars(sentences):\n",
    "    lst = []\n",
    "    for i, sentence in enumerate(sentences):\n",
    "        segs = sentence.split('<i>')\n",
    "        lst.append(''.join([segs[i] for i in range(len(segs)) if i % 2 == 0]))\n",
    "    return lst\n",
    "\n",
    "print removeInvalidChars([\"happy<i>no<i>yes<i>no<i>hh\", \"Happy<i>Inspect-<i>dd\"])\n",
    "\n",
    "                "
   ]
  },
  {
   "cell_type": "code",
   "execution_count": null,
   "metadata": {
    "collapsed": true
   },
   "outputs": [],
   "source": []
  }
 ],
 "metadata": {
  "anaconda-cloud": {},
  "kernelspec": {
   "display_name": "Python [Root]",
   "language": "python",
   "name": "Python [Root]"
  },
  "language_info": {
   "codemirror_mode": {
    "name": "ipython",
    "version": 2
   },
   "file_extension": ".py",
   "mimetype": "text/x-python",
   "name": "python",
   "nbconvert_exporter": "python",
   "pygments_lexer": "ipython2",
   "version": "2.7.12"
  }
 },
 "nbformat": 4,
 "nbformat_minor": 0
}
