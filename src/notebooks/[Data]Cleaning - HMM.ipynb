{
 "cells": [
  {
   "cell_type": "code",
   "execution_count": null,
   "metadata": {
    "collapsed": true
   },
   "outputs": [],
   "source": [
    "The goal of data cleaning is to fix typos and make it more uniform and consisting by transforming to all smaller letters"
   ]
  },
  {
   "cell_type": "code",
   "execution_count": 21,
   "metadata": {
    "collapsed": false
   },
   "outputs": [
    {
     "name": "stdout",
     "output_type": "stream",
     "text": [
      "to be implemented\n"
     ]
    }
   ],
   "source": [
    "\n",
    "\n",
    "transitions = []\n",
    "transition_prob = []\n",
    "typo_prob = []\n",
    "\n",
    "# initialization\n",
    "def get_index(ch):\n",
    "    # in the future, we could change mapping\n",
    "    if ch >= 'A' and ch <= 'Z':\n",
    "        return int(ch - 'A')\n",
    "    elif ch >= 'a' and ch <= 'z':\n",
    "        return int(ch - 'a')\n",
    "    return -1\n",
    "\n",
    "\n",
    "def initialize_typo_prob():\n",
    "    # to be implemented\n",
    "    global typo_prob\n",
    "    typo_prob = []\n",
    "    for c1 in range(26):\n",
    "        typo_prob.append([])\n",
    "        for c2 in range(26):\n",
    "            typo_prob[c1].append(0)\n",
    "    print(\"to be implemented\")\n",
    "\n",
    "def initialize_transition_prob(): \n",
    "    global transitions\n",
    "    transitions = []\n",
    "    for c1 in range(26):\n",
    "        transitions.append([])\n",
    "        for c2 in range(26):\n",
    "            transitions[c1].append(0)\n",
    "\n",
    "initialize_typo_prob()\n",
    "initialize_transition_prob()\n",
    "\n",
    "\n",
    "# call the following function to update for each sentence\n",
    "# currently, not ignoring the invlaid code\n",
    "def update_transition_prob(sentence):\n",
    "    for i in range(len(sentence) - 1):\n",
    "        c1 = get_index(sentence[i])\n",
    "        c2 = get_index(sentence[i])\n",
    "        if c1 != -1 and c2 != -1:\n",
    "            transitions[c1][c2] += 1\n",
    "\n",
    "def finalize_transition_prob(alpha = 0):\n",
    "    # transition_prob[a][b] (a to b)\n",
    "    global transition_prob\n",
    "    transition_prob = []\n",
    "    for c1 in range(26):\n",
    "        transition_prob.append([])\n",
    "        s = sum(transitions[c1]) + 26 * alpha\n",
    "        for c2 in range(26):\n",
    "            transition_prob.append((float)(transitions[c1][c2] + alpha) / s)\n",
    "\n",
    "            \n",
    "# ...\n",
    "# update_transition_prob(\"Update sentences\")\n",
    "finalize_transition_prob(1)\n"
   ]
  },
  {
   "cell_type": "markdown",
   "metadata": {},
   "source": [
    "Input a string (a sentence), want to figure out the typos\n",
    "\n",
    "typo_prob[a][b] = given correct is b, prob that it's a\n",
    "\n"
   ]
  },
  {
   "cell_type": "code",
   "execution_count": 20,
   "metadata": {
    "collapsed": true
   },
   "outputs": [],
   "source": [
    "# calculate maximum likelihood sequence ??? (whatever name)\n",
    "# dp[i][c] (at ith character, char = c)\n",
    "# ignore not valid chars\n",
    "def viterbi(sentence): \n",
    "    n = len(sentence)\n",
    "    dp = []\n",
    "    ans = []\n",
    "    \n",
    "    last_char = -1\n",
    "    r = 0\n",
    "    for i in range(n):\n",
    "        if get_index(sentence[i]) != -1:\n",
    "            c2 = get_index(sentence[i])\n",
    "            dp.append([])\n",
    "            ans.append([])\n",
    "            if last_char == -1:\n",
    "                # first\n",
    "                for c1 in range(26):\n",
    "                    dp[0][c1] = typo_prob[c1][c2]\n",
    "                    ans[0][c1] = -1\n",
    "            else:\n",
    "                # not first\n",
    "                for c1 in range(26):\n",
    "                    dp[r][c1] = 0\n",
    "                    for c3 in range(26):\n",
    "                        tmp = dp[r - 1][c3] * transition_prob[c3][c1] * typo_prob[c1][c2]\n",
    "                        if tmp > dp[r][c1]:\n",
    "                            dp[r][c1] = tmp\n",
    "                            ans[r][c1] = c3\n",
    "               \n",
    "            last_char = c2\n",
    "            r += 1\n",
    "    \n",
    "    # now recalculate to get the sequence\n",
    "    i, c = r - 1, dp[r - 1].index(max(dp[r - 1]))\n",
    "    output = \"\"\n",
    "    while (c != -1):\n",
    "        output += (c + 'a')\n",
    "        c = ans[i][c]\n",
    "        i -= 1\n",
    "    return output[::-1]\n",
    "    "
   ]
  },
  {
   "cell_type": "code",
   "execution_count": null,
   "metadata": {
    "collapsed": true
   },
   "outputs": [],
   "source": []
  }
 ],
 "metadata": {
  "kernelspec": {
   "display_name": "Python [Root]",
   "language": "python",
   "name": "Python [Root]"
  },
  "language_info": {
   "codemirror_mode": {
    "name": "ipython",
    "version": 2
   },
   "file_extension": ".py",
   "mimetype": "text/x-python",
   "name": "python",
   "nbconvert_exporter": "python",
   "pygments_lexer": "ipython2",
   "version": "2.7.12"
  }
 },
 "nbformat": 4,
 "nbformat_minor": 0
}
